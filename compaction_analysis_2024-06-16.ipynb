{
 "cells": [
  {
   "cell_type": "code",
   "execution_count": null,
   "id": "d68dd30a",
   "metadata": {},
   "outputs": [],
   "source": [
    "import numpy as np\n",
    "import sys as sys\n",
    "import os\n",
    "import matplotlib.pyplot as plt\n",
    "import weinzierl_2024_06_12 as weinzierl"
   ]
  },
  {
   "cell_type": "markdown",
   "id": "d474fd1a",
   "metadata": {},
   "source": [
    "# Optional: Create Trajectory Object to Characterize Input Files"
   ]
  },
  {
   "cell_type": "code",
   "execution_count": null,
   "id": "aaea8912",
   "metadata": {},
   "outputs": [],
   "source": [
    "name_1   = 'wildtype'\n",
    "prmtop_1 = 'cr1-model_1_stripped.prmtop'\n",
    "traj_1   = 'cr1_model_1_aMD_no1_stripped.nc'\n",
    "start_1  = 1 #position of first residue in overall primary amino acid sequence\n",
    "# create trajectory object to identify input\n",
    "experiment_1 = weinzierl.Trajectory(name_1, prmtop_1, traj_1, start_1)"
   ]
  },
  {
   "cell_type": "markdown",
   "id": "afdfb790",
   "metadata": {},
   "source": [
    "# Create Combinatorial Distance Data"
   ]
  },
  {
   "cell_type": "code",
   "execution_count": null,
   "id": "096c29b7",
   "metadata": {},
   "outputs": [],
   "source": [
    "#get user input for region of the protein to be analyzed\n",
    "start = input ('Enter the position of the first residue: ')\n",
    "end   = input ('Enter the position of the last residue: ')\n",
    "\n",
    "f2 = open('distance_' + start + '-' + end + '.cpptraj', 'w')\n",
    "f2.write('parm ')\n",
    "f2.write(prmtop_1)\n",
    "f2.write('\\n')\n",
    "f2.write('trajin ')\n",
    "f2.write(traj_1)\n",
    "f2.write('\\n')\n",
    "\n",
    "for position_1 in range (int(start), int(end) + 1):\n",
    "    for position_2 in range (position_1 + 1, int(end) + 1):\n",
    "        f2.write('distance :')\n",
    "        f2.write(str(position_1))\n",
    "        f2.write(' :')\n",
    "        f2.write(str(position_2))\n",
    "        f2.write(' out distance_' + start + '-' + end + '.txt')\n",
    "        f2.write('\\n')\n",
    "f2.close()"
   ]
  },
  {
   "cell_type": "code",
   "execution_count": null,
   "id": "33445692",
   "metadata": {},
   "outputs": [],
   "source": [
    "%%capture\n",
    "file_name_1 = 'distance_' + str(start) + '-' + str(end) + ('.cpptraj')\n",
    "print (file_name_1)\n",
    "!cpptraj < {file_name_1}"
   ]
  },
  {
   "cell_type": "markdown",
   "id": "ffd5c8a2",
   "metadata": {},
   "source": [
    "# Plot Distance Data"
   ]
  },
  {
   "cell_type": "code",
   "execution_count": null,
   "id": "d94a3df7",
   "metadata": {
    "scrolled": true
   },
   "outputs": [],
   "source": [
    "file_name_2 = 'distance_' + start + '-' + end + '.txt'\n",
    "print ('Loading data from', file_name_2)\n",
    "result = np.loadtxt(file_name_2)"
   ]
  },
  {
   "cell_type": "code",
   "execution_count": null,
   "id": "14e1f48c",
   "metadata": {},
   "outputs": [],
   "source": [
    "resid_1 = []\n",
    "resid_2 = []\n",
    "resid_3 = []\n",
    "\n",
    "primary_seq_residue_minimum = 10\n",
    "minimum_distance = 6\n",
    "\n",
    "count = 0\n",
    "for position_1 in range (int(start), int(end) + 1):\n",
    "    for position_2 in range (position_1 + 1, int(end) + 1):\n",
    "        array = result[:,count] #read in row\n",
    "        if position_2 - position_1 > primary_seq_residue_minimum:\n",
    "            constraint = array < minimum_distance # impose minimum distance constraint on structure\n",
    "            final_result = array[constraint]\n",
    "            #print (position_1, position_2, len(final_result))\n",
    "            resid_1.append (position_1)\n",
    "            resid_2.append (position_2)\n",
    "            resid_3.append (len(final_result))\n",
    "        count = count + 1\n",
    "npa_1 = np.asarray(resid_1)\n",
    "npa_2 = np.asarray(resid_2)\n",
    "npa_3 = np.asarray(resid_3)\n",
    "print (count, 'combinatorial positions analyzed')\n",
    "\n",
    "#plot data\n",
    "new = npa_3.astype(float)\n",
    "divisor = npa_3.max()\n",
    "print (divisor, 'maximum counts in one spot')\n",
    "plt.figsize=(10, 10)\n",
    "plt.axis('square')\n",
    "plt.xlim (int(start) - 10, int(end) + 10)\n",
    "plt.ylim (int(start) - 10, int(end) + 10)\n",
    "\n",
    "for x in range (1, len(resid_3)):\n",
    "    value = npa_3[x]/divisor # to make sure that alpha does not exceed 1\n",
    "    plt.scatter(npa_1[x], npa_2[x], alpha = value, s = 1.5, color = 'black')\n",
    "#plt.scatter(105, 105, marker = '.', alpha = 0.5, s = 2, color = 'blue') #D132 position\n",
    "#plt.scatter(106, 106, marker = '.', alpha = 0.5, s = 2, color = 'blue') #W135 position\n",
    "#plt.scatter(132, 132, marker = '.', alpha = 0.5, s = 2, color = 'red') #D132 position\n",
    "#plt.scatter(135, 135, marker = '.', alpha = 0.5, s = 2, color = 'purple') #W135 position\n",
    "\n",
    "file_name_3 = 'compaction_contacts_intensity_' + start + '_' + end + '_' + str(primary_seq_residue_minimum) + '-' + str(minimum_distance) + '.png'\n",
    "plt.savefig(file_name_3, dpi = 300)"
   ]
  },
  {
   "cell_type": "code",
   "execution_count": null,
   "id": "b4f32a49",
   "metadata": {},
   "outputs": [],
   "source": []
  },
  {
   "cell_type": "markdown",
   "id": "ab453e7c",
   "metadata": {},
   "source": [
    "# Bubble Plot"
   ]
  }
 ],
 "metadata": {
  "kernelspec": {
   "display_name": "Python 3 (ipykernel)",
   "language": "python",
   "name": "python3"
  },
  "language_info": {
   "codemirror_mode": {
    "name": "ipython",
    "version": 3
   },
   "file_extension": ".py",
   "mimetype": "text/x-python",
   "name": "python",
   "nbconvert_exporter": "python",
   "pygments_lexer": "ipython3",
   "version": "3.12.5"
  }
 },
 "nbformat": 4,
 "nbformat_minor": 5
}
